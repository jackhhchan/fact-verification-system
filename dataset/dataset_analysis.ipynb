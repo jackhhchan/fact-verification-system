{
 "cells": [
  {
   "cell_type": "markdown",
   "metadata": {},
   "source": [
    "# Dataset Exploration"
   ]
  },
  {
   "cell_type": "markdown",
   "metadata": {},
   "source": [
    "### Initial exploration\n",
    "\n",
    "In this section we will take a look at the dataset and check for:\n",
    "- class distribution"
   ]
  },
  {
   "cell_type": "code",
   "execution_count": 10,
   "metadata": {},
   "outputs": [],
   "source": [
    "import pandas as pd\n",
    "import json\n",
    "\n",
    "with open('train.json', 'r') as fp:\n",
    "    j = json.load(fp)"
   ]
  },
  {
   "cell_type": "code",
   "execution_count": 11,
   "metadata": {},
   "outputs": [],
   "source": [
    "df_train = pd.DataFrame(j.values())"
   ]
  },
  {
   "cell_type": "code",
   "execution_count": 12,
   "metadata": {},
   "outputs": [
    {
     "data": {
      "text/html": [
       "<div>\n",
       "<style scoped>\n",
       "    .dataframe tbody tr th:only-of-type {\n",
       "        vertical-align: middle;\n",
       "    }\n",
       "\n",
       "    .dataframe tbody tr th {\n",
       "        vertical-align: top;\n",
       "    }\n",
       "\n",
       "    .dataframe thead th {\n",
       "        text-align: right;\n",
       "    }\n",
       "</style>\n",
       "<table border=\"1\" class=\"dataframe\">\n",
       "  <thead>\n",
       "    <tr style=\"text-align: right;\">\n",
       "      <th></th>\n",
       "      <th>claim</th>\n",
       "      <th>label</th>\n",
       "      <th>evidence</th>\n",
       "    </tr>\n",
       "  </thead>\n",
       "  <tbody>\n",
       "    <tr>\n",
       "      <th>0</th>\n",
       "      <td>Nikolaj Coster-Waldau worked with the Fox Broa...</td>\n",
       "      <td>SUPPORTS</td>\n",
       "      <td>[[Fox_Broadcasting_Company, 0], [Nikolaj_Coste...</td>\n",
       "    </tr>\n",
       "    <tr>\n",
       "      <th>1</th>\n",
       "      <td>Roman Atwood is a content creator.</td>\n",
       "      <td>SUPPORTS</td>\n",
       "      <td>[[Roman_Atwood, 1], [Roman_Atwood, 3]]</td>\n",
       "    </tr>\n",
       "    <tr>\n",
       "      <th>2</th>\n",
       "      <td>History of art includes architecture, dance, s...</td>\n",
       "      <td>SUPPORTS</td>\n",
       "      <td>[[History_of_art, 2]]</td>\n",
       "    </tr>\n",
       "    <tr>\n",
       "      <th>3</th>\n",
       "      <td>Adrienne Bailon is an accountant.</td>\n",
       "      <td>REFUTES</td>\n",
       "      <td>[[Adrienne_Bailon, 0]]</td>\n",
       "    </tr>\n",
       "    <tr>\n",
       "      <th>4</th>\n",
       "      <td>System of a Down briefly disbanded in limbo.</td>\n",
       "      <td>NOT ENOUGH INFO</td>\n",
       "      <td>[]</td>\n",
       "    </tr>\n",
       "  </tbody>\n",
       "</table>\n",
       "</div>"
      ],
      "text/plain": [
       "                                               claim            label  \\\n",
       "0  Nikolaj Coster-Waldau worked with the Fox Broa...         SUPPORTS   \n",
       "1                 Roman Atwood is a content creator.         SUPPORTS   \n",
       "2  History of art includes architecture, dance, s...         SUPPORTS   \n",
       "3                  Adrienne Bailon is an accountant.          REFUTES   \n",
       "4       System of a Down briefly disbanded in limbo.  NOT ENOUGH INFO   \n",
       "\n",
       "                                            evidence  \n",
       "0  [[Fox_Broadcasting_Company, 0], [Nikolaj_Coste...  \n",
       "1             [[Roman_Atwood, 1], [Roman_Atwood, 3]]  \n",
       "2                              [[History_of_art, 2]]  \n",
       "3                             [[Adrienne_Bailon, 0]]  \n",
       "4                                                 []  "
      ]
     },
     "execution_count": 12,
     "metadata": {},
     "output_type": "execute_result"
    }
   ],
   "source": [
    "df_train.head()"
   ]
  },
  {
   "cell_type": "code",
   "execution_count": 13,
   "metadata": {},
   "outputs": [
    {
     "data": {
      "text/plain": [
       "<matplotlib.axes._subplots.AxesSubplot at 0x7f331a99ea50>"
      ]
     },
     "execution_count": 13,
     "metadata": {},
     "output_type": "execute_result"
    },
    {
     "data": {
      "image/png": "[encoded data removed]",
      "text/plain": [
       "<Figure size 432x288 with 1 Axes>"
      ]
     },
     "metadata": {
      "needs_background": "light"
     },
     "output_type": "display_data"
    }
   ],
   "source": [
    "df_train['label'].hist()"
   ]
  },
  {
   "cell_type": "markdown",
   "metadata": {},
   "source": []
  },
  {
   "cell_type": "markdown",
   "metadata": {},
   "source": [
    "### Dataset needs to be processed...\n",
    "- Balancing\n",
    "- Removing 'NOT ENOUGH INFO'"
   ]
  },
  {
   "cell_type": "code",
   "execution_count": 14,
   "metadata": {},
   "outputs": [],
   "source": [
    "df_train = df_train[df_train.label != \"NOT ENOUGH INFO\"]"
   ]
  },
  {
   "cell_type": "code",
   "execution_count": 15,
   "metadata": {},
   "outputs": [
    {
     "data": {
      "text/html": [
       "<div>\n",
       "<style scoped>\n",
       "    .dataframe tbody tr th:only-of-type {\n",
       "        vertical-align: middle;\n",
       "    }\n",
       "\n",
       "    .dataframe tbody tr th {\n",
       "        vertical-align: top;\n",
       "    }\n",
       "\n",
       "    .dataframe thead th {\n",
       "        text-align: right;\n",
       "    }\n",
       "</style>\n",
       "<table border=\"1\" class=\"dataframe\">\n",
       "  <thead>\n",
       "    <tr style=\"text-align: right;\">\n",
       "      <th></th>\n",
       "      <th>claim</th>\n",
       "      <th>label</th>\n",
       "      <th>evidence</th>\n",
       "    </tr>\n",
       "  </thead>\n",
       "  <tbody>\n",
       "    <tr>\n",
       "      <th>129856</th>\n",
       "      <td>Alec Baldwin has played only leading roles.</td>\n",
       "      <td>REFUTES</td>\n",
       "      <td>[[Alec_Baldwin, 3]]</td>\n",
       "    </tr>\n",
       "    <tr>\n",
       "      <th>111147</th>\n",
       "      <td>The Berlin Wall was only standing for 10 years.</td>\n",
       "      <td>REFUTES</td>\n",
       "      <td>[[Berlin_Wall, 0]]</td>\n",
       "    </tr>\n",
       "    <tr>\n",
       "      <th>125177</th>\n",
       "      <td>21 Jump Street was released theatrically on Ma...</td>\n",
       "      <td>REFUTES</td>\n",
       "      <td>[[21_Jump_Street_-LRB-film-RRB-, 4]]</td>\n",
       "    </tr>\n",
       "    <tr>\n",
       "      <th>69282</th>\n",
       "      <td>True Blood is not a horror television series.</td>\n",
       "      <td>REFUTES</td>\n",
       "      <td>[[Dark_fantasy, 0], [True_Blood, 0], [Dark_fan...</td>\n",
       "    </tr>\n",
       "    <tr>\n",
       "      <th>69283</th>\n",
       "      <td>Julius Caesar only crossed the Rubicon in 54 BC.</td>\n",
       "      <td>REFUTES</td>\n",
       "      <td>[[Julius_Caesar, 12]]</td>\n",
       "    </tr>\n",
       "    <tr>\n",
       "      <th>...</th>\n",
       "      <td>...</td>\n",
       "      <td>...</td>\n",
       "      <td>...</td>\n",
       "    </tr>\n",
       "    <tr>\n",
       "      <th>56137</th>\n",
       "      <td>Jerome is recognized as a Doctor of the Church.</td>\n",
       "      <td>SUPPORTS</td>\n",
       "      <td>[[Jerome, 11]]</td>\n",
       "    </tr>\n",
       "    <tr>\n",
       "      <th>56136</th>\n",
       "      <td>Lahore contains Lahore Fort in its eastern dis...</td>\n",
       "      <td>SUPPORTS</td>\n",
       "      <td>[[Lahore, 21]]</td>\n",
       "    </tr>\n",
       "    <tr>\n",
       "      <th>56135</th>\n",
       "      <td>Washington Naval Conference was held in Washin...</td>\n",
       "      <td>SUPPORTS</td>\n",
       "      <td>[[Washington_Naval_Conference, 0], [Washington...</td>\n",
       "    </tr>\n",
       "    <tr>\n",
       "      <th>56131</th>\n",
       "      <td>Rona Munro is a scriptwriter for Doctor Who.</td>\n",
       "      <td>SUPPORTS</td>\n",
       "      <td>[[Doctor_Who_-LRB-series_10-RRB-, 11]]</td>\n",
       "    </tr>\n",
       "    <tr>\n",
       "      <th>145448</th>\n",
       "      <td>Susan Sarandon is an award winner.</td>\n",
       "      <td>SUPPORTS</td>\n",
       "      <td>[[Susan_Sarandon, 8], [Susan_Sarandon, 1], [Su...</td>\n",
       "    </tr>\n",
       "  </tbody>\n",
       "</table>\n",
       "<p>109810 rows × 3 columns</p>\n",
       "</div>"
      ],
      "text/plain": [
       "                                                    claim     label  \\\n",
       "129856        Alec Baldwin has played only leading roles.   REFUTES   \n",
       "111147    The Berlin Wall was only standing for 10 years.   REFUTES   \n",
       "125177  21 Jump Street was released theatrically on Ma...   REFUTES   \n",
       "69282       True Blood is not a horror television series.   REFUTES   \n",
       "69283    Julius Caesar only crossed the Rubicon in 54 BC.   REFUTES   \n",
       "...                                                   ...       ...   \n",
       "56137     Jerome is recognized as a Doctor of the Church.  SUPPORTS   \n",
       "56136   Lahore contains Lahore Fort in its eastern dis...  SUPPORTS   \n",
       "56135   Washington Naval Conference was held in Washin...  SUPPORTS   \n",
       "56131        Rona Munro is a scriptwriter for Doctor Who.  SUPPORTS   \n",
       "145448                 Susan Sarandon is an award winner.  SUPPORTS   \n",
       "\n",
       "                                                 evidence  \n",
       "129856                                [[Alec_Baldwin, 3]]  \n",
       "111147                                 [[Berlin_Wall, 0]]  \n",
       "125177               [[21_Jump_Street_-LRB-film-RRB-, 4]]  \n",
       "69282   [[Dark_fantasy, 0], [True_Blood, 0], [Dark_fan...  \n",
       "69283                               [[Julius_Caesar, 12]]  \n",
       "...                                                   ...  \n",
       "56137                                      [[Jerome, 11]]  \n",
       "56136                                      [[Lahore, 21]]  \n",
       "56135   [[Washington_Naval_Conference, 0], [Washington...  \n",
       "56131              [[Doctor_Who_-LRB-series_10-RRB-, 11]]  \n",
       "145448  [[Susan_Sarandon, 8], [Susan_Sarandon, 1], [Su...  \n",
       "\n",
       "[109810 rows x 3 columns]"
      ]
     },
     "execution_count": 15,
     "metadata": {},
     "output_type": "execute_result"
    }
   ],
   "source": [
    "df_train = df_train.sort_values(by='label', ascending=True)\n",
    "df_train"
   ]
  },
  {
   "cell_type": "code",
   "execution_count": 16,
   "metadata": {},
   "outputs": [
    {
     "data": {
      "text/plain": [
       "SUPPORTS    80035\n",
       "REFUTES     29775\n",
       "Name: label, dtype: int64"
      ]
     },
     "execution_count": 16,
     "metadata": {},
     "output_type": "execute_result"
    }
   ],
   "source": [
    "df_train['label'].value_counts()\n",
    "df_train.label.value_counts()"
   ]
  },
  {
   "cell_type": "code",
   "execution_count": 17,
   "metadata": {},
   "outputs": [
    {
     "data": {
      "text/plain": [
       "<matplotlib.axes._subplots.AxesSubplot at 0x7f3319f97190>"
      ]
     },
     "execution_count": 17,
     "metadata": {},
     "output_type": "execute_result"
    },
    {
     "data": {
      "image/png": "[encoded data removed]",
      "text/plain": [
       "<Figure size 432x288 with 1 Axes>"
      ]
     },
     "metadata": {
      "needs_background": "light"
     },
     "output_type": "display_data"
    }
   ],
   "source": [
    "df_train['label'].hist()"
   ]
  },
  {
   "cell_type": "code",
   "execution_count": 18,
   "metadata": {},
   "outputs": [
    {
     "data": {
      "text/plain": [
       "109810"
      ]
     },
     "execution_count": 18,
     "metadata": {},
     "output_type": "execute_result"
    }
   ],
   "source": [
    "len(df_train)"
   ]
  },
  {
   "cell_type": "code",
   "execution_count": 19,
   "metadata": {},
   "outputs": [
    {
     "data": {
      "text/plain": [
       "[{'claim': 'Alec Baldwin has played only leading roles.',\n",
       "  'label': 'REFUTES',\n",
       "  'evidence': [['Alec_Baldwin', 3]]},\n",
       " {'claim': 'The Berlin Wall was only standing for 10 years.',\n",
       "  'label': 'REFUTES',\n",
       "  'evidence': [['Berlin_Wall', 0]]}]"
      ]
     },
     "execution_count": 19,
     "metadata": {},
     "output_type": "execute_result"
    }
   ],
   "source": [
    "df_train[:2].to_dict('records')"
   ]
  },
  {
   "cell_type": "code",
   "execution_count": 20,
   "metadata": {},
   "outputs": [
    {
     "data": {
      "text/plain": [
       "count                                                109810\n",
       "unique                                               102292\n",
       "top       International Relations only includes the ente...\n",
       "freq                                                     29\n",
       "Name: claim, dtype: object"
      ]
     },
     "execution_count": 20,
     "metadata": {},
     "output_type": "execute_result"
    }
   ],
   "source": [
    "df_train['claim'].describe()"
   ]
  },
  {
   "cell_type": "code",
   "execution_count": 30,
   "metadata": {},
   "outputs": [
    {
     "data": {
      "text/plain": [
       "'International Relations includes technology and engineering, economics, communication studies, history, international law, demography, philosophy, geography, social work, sociology, anthropology, criminology, psychology, gender studies, cultural studies, culturology, and diplomacy, globalization, diplomatic relations, state sovereignty, international security, ecological sustainability, nuclear proliferation, nationalism, economic development, global finance, as well as terrorism and organized crime, human security, foreign interventionism, and human rights, as well, as, more recently, comparative religion.'"
      ]
     },
     "execution_count": 30,
     "metadata": {},
     "output_type": "execute_result"
    }
   ],
   "source": [
    "longest_idx = df_train['claim'].str.len().argmax()\n",
    "longest_claim = df_train.iloc[longest_idx].claim\n",
    "longest_claim"
   ]
  },
  {
   "cell_type": "code",
   "execution_count": 35,
   "metadata": {},
   "outputs": [
    {
     "name": "stderr",
     "output_type": "stream",
     "text": [
      "[nltk_data] Downloading package punkt to /home/jack/nltk_data...\n",
      "[nltk_data]   Package punkt is already up-to-date!\n"
     ]
    }
   ],
   "source": [
    "import nltk\n",
    "from nltk import word_tokenize\n",
    "nltk.download('punkt')\n",
    "tokens = word_tokenize(longest_claim)"
   ]
  },
  {
   "cell_type": "code",
   "execution_count": 36,
   "metadata": {},
   "outputs": [
    {
     "data": {
      "text/plain": [
       "99"
      ]
     },
     "execution_count": 36,
     "metadata": {},
     "output_type": "execute_result"
    }
   ],
   "source": [
    "len(tokens)"
   ]
  },
  {
   "cell_type": "code",
   "execution_count": null,
   "metadata": {},
   "outputs": [],
   "source": []
  }
 ],
 "metadata": {
  "kernelspec": {
   "display_name": "Python 3",
   "language": "python",
   "name": "python3"
  },
  "language_info": {
   "codemirror_mode": {
    "name": "ipython",
    "version": 3
   },
   "file_extension": ".py",
   "mimetype": "text/x-python",
   "name": "python",
   "nbconvert_exporter": "python",
   "pygments_lexer": "ipython3",
   "version": "3.7.4"
  }
 },
 "nbformat": 4,
 "nbformat_minor": 4
}
