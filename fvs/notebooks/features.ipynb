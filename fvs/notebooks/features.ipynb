{
 "cells": [
  {
   "cell_type": "code",
   "execution_count": 23,
   "metadata": {
    "collapsed": true
   },
   "outputs": [],
   "source": [
    "import sqlite3\n",
    "import pandas as pd\n",
    "\n",
    "con = sqlite3.connect(\"../../wikipedia.sqlite\")\n",
    "# df = pd.read_sql_query('select * from Wikipedia', con)"
   ]
  },
  {
   "cell_type": "markdown",
   "source": [
    "## Training data\n",
    "\n",
    "Training data is in metadata format and hence\n",
    "1. train.json has the following format:\n",
    "```json\n",
    "  \"75397\": {\n",
    "    \"claim\": \"Nikolaj Coster-Waldau worked with the Fox Broadcasting Company.\",\n",
    "    \"label\": \"SUPPORTS\",\n",
    "    \"evidence\": [\n",
    "      [\n",
    "        \"Fox_Broadcasting_Company\",\n",
    "        0\n",
    "      ],\n",
    "      [\n",
    "        \"Nikolaj_Coster-Waldau\",\n",
    "        7\n",
    "      ]\n",
    "    ]\n",
    "  },\n",
    "```\n",
    "\n",
    "This meta information is used to extract the data, hence the sentence to train the classifier."
   ],
   "metadata": {
    "collapsed": false,
    "pycharm": {
     "name": "#%% md\n"
    }
   }
  },
  {
   "cell_type": "code",
   "execution_count": 24,
   "outputs": [],
   "source": [
    "cur = con.cursor()\n",
    "def select_sentence(title: str, idx: int) -> str:\n",
    "    title = title.replace(\"'\", \"''\")        # escape single quotes\n",
    "    return f\"SELECT sentence FROM Wikipedia WHERE title='{title}' AND idx={idx} LIMIT 1;\"\n",
    "\n",
    "# print(select_sentence(\"Fox_Broadcasting_Company\", 0))\n",
    "row = cur.execute(select_sentence(\"Fox_Broadcasting_Company\", 0))\n",
    "cur.fetchone()\n",
    "cur.close()"
   ],
   "metadata": {
    "collapsed": false,
    "pycharm": {
     "name": "#%%\n"
    }
   }
  },
  {
   "cell_type": "markdown",
   "source": [
    "#### Use the meta data to build training data into a dataframe.\n",
    "\n",
    "The columns are:\n",
    "```text\n",
    "claim, label, evidence_title, evidence_sentence\n",
    "```"
   ],
   "metadata": {
    "collapsed": false,
    "pycharm": {
     "name": "#%% md\n"
    }
   }
  },
  {
   "cell_type": "code",
   "execution_count": 3,
   "outputs": [
    {
     "name": "stdout",
     "output_type": "stream",
     "text": [
      "Number of claims: 145449\n",
      "Number of exmaples: 204041\n"
     ]
    }
   ],
   "source": [
    "import json\n",
    "with open('../../dataset/train.json', 'r') as h:\n",
    "    meta_train = json.load(h)\n",
    "\n",
    "\n",
    "print(f\"Number of claims: {len(meta_train)}\")\n",
    "print(f\"Number of exmaples: {len([e for j in meta_train.values() for e in j.get('evidence')])}\")"
   ],
   "metadata": {
    "collapsed": false,
    "pycharm": {
     "name": "#%%\n"
    }
   }
  },
  {
   "cell_type": "code",
   "execution_count": 25,
   "outputs": [
    {
     "name": "stderr",
     "output_type": "stream",
     "text": [
      "100%|██████████| 145449/145449 [00:04<00:00, 33441.27it/s]"
     ]
    },
    {
     "name": "stdout",
     "output_type": "stream",
     "text": [
      "Claims: 202563, Labels: 202563\n",
      "Skipped: 1478\n"
     ]
    },
    {
     "name": "stderr",
     "output_type": "stream",
     "text": [
      "\n"
     ]
    }
   ],
   "source": [
    "from typing import List\n",
    "from tqdm import tqdm\n",
    "claims: List[str] = list()\n",
    "labels: List[str] = list()\n",
    "ev_titles: List[str] = list()\n",
    "ev_sents: List[str] = list()\n",
    "\n",
    "skipped = list()\n",
    "cur = con.cursor()\n",
    "for data in tqdm(meta_train.values()):\n",
    "    for ev in data.get('evidence'):\n",
    "        title = ev[0]\n",
    "        idx = ev[1]\n",
    "        cur.execute(select_sentence(title, idx))\n",
    "        res = cur.fetchone()\n",
    "        if res is None:\n",
    "            skipped.append(f\"-- Title:{title} Idx:{idx} skipped. No results found.\")\n",
    "            continue\n",
    "\n",
    "        claims.append(data.get('claim'))\n",
    "        labels.append(data.get('label'))\n",
    "        ev_titles.append(title)\n",
    "        ev_sents.append(res[0])\n",
    "\n",
    "print(f\"Claims: {len(claims)}, Labels: {len(labels)}\")\n",
    "cur.close()\n",
    "\n",
    "print(f\"Skipped: {len(skipped)}\")"
   ],
   "metadata": {
    "collapsed": false,
    "pycharm": {
     "name": "#%%\n"
    }
   }
  },
  {
   "cell_type": "code",
   "execution_count": 26,
   "outputs": [
    {
     "data": {
      "text/plain": "202563"
     },
     "execution_count": 26,
     "metadata": {},
     "output_type": "execute_result"
    }
   ],
   "source": [
    "cols = [ 'claim', 'label', 'evidence_title', 'evidence_sentence' ]\n",
    "\n",
    "df = pd.DataFrame(zip(claims, labels, ev_titles, ev_sents), columns=cols)\n",
    "\n",
    "len(df)"
   ],
   "metadata": {
    "collapsed": false,
    "pycharm": {
     "name": "#%%\n"
    }
   }
  },
  {
   "cell_type": "code",
   "execution_count": 27,
   "outputs": [
    {
     "data": {
      "text/plain": "                                               claim     label  \\\n0  Nikolaj Coster-Waldau worked with the Fox Broa...  SUPPORTS   \n1  Nikolaj Coster-Waldau worked with the Fox Broa...  SUPPORTS   \n2                 Roman Atwood is a content creator.  SUPPORTS   \n3                 Roman Atwood is a content creator.  SUPPORTS   \n4  History of art includes architecture, dance, s...  SUPPORTS   \n\n             evidence_title                                  evidence_sentence  \n0  Fox_Broadcasting_Company  The Fox Broadcasting Company -LRB- often short...  \n1     Nikolaj_Coster-Waldau  He then played Detective John Amsterdam in the...  \n2              Roman_Atwood  He is best known for his vlogs , where he post...  \n3              Roman_Atwood  He also has another YouTube channel called `` ...  \n4            History_of_art  The subsequent expansion of the list of princi...  ",
      "text/html": "<div>\n<style scoped>\n    .dataframe tbody tr th:only-of-type {\n        vertical-align: middle;\n    }\n\n    .dataframe tbody tr th {\n        vertical-align: top;\n    }\n\n    .dataframe thead th {\n        text-align: right;\n    }\n</style>\n<table border=\"1\" class=\"dataframe\">\n  <thead>\n    <tr style=\"text-align: right;\">\n      <th></th>\n      <th>claim</th>\n      <th>label</th>\n      <th>evidence_title</th>\n      <th>evidence_sentence</th>\n    </tr>\n  </thead>\n  <tbody>\n    <tr>\n      <th>0</th>\n      <td>Nikolaj Coster-Waldau worked with the Fox Broa...</td>\n      <td>SUPPORTS</td>\n      <td>Fox_Broadcasting_Company</td>\n      <td>The Fox Broadcasting Company -LRB- often short...</td>\n    </tr>\n    <tr>\n      <th>1</th>\n      <td>Nikolaj Coster-Waldau worked with the Fox Broa...</td>\n      <td>SUPPORTS</td>\n      <td>Nikolaj_Coster-Waldau</td>\n      <td>He then played Detective John Amsterdam in the...</td>\n    </tr>\n    <tr>\n      <th>2</th>\n      <td>Roman Atwood is a content creator.</td>\n      <td>SUPPORTS</td>\n      <td>Roman_Atwood</td>\n      <td>He is best known for his vlogs , where he post...</td>\n    </tr>\n    <tr>\n      <th>3</th>\n      <td>Roman Atwood is a content creator.</td>\n      <td>SUPPORTS</td>\n      <td>Roman_Atwood</td>\n      <td>He also has another YouTube channel called `` ...</td>\n    </tr>\n    <tr>\n      <th>4</th>\n      <td>History of art includes architecture, dance, s...</td>\n      <td>SUPPORTS</td>\n      <td>History_of_art</td>\n      <td>The subsequent expansion of the list of princi...</td>\n    </tr>\n  </tbody>\n</table>\n</div>"
     },
     "execution_count": 27,
     "metadata": {},
     "output_type": "execute_result"
    }
   ],
   "source": [
    "df.head()"
   ],
   "metadata": {
    "collapsed": false,
    "pycharm": {
     "name": "#%%\n"
    }
   }
  },
  {
   "cell_type": "code",
   "execution_count": 28,
   "outputs": [],
   "source": [
    "df.to_csv('../../train.csv')"
   ],
   "metadata": {
    "collapsed": false,
    "pycharm": {
     "name": "#%%\n"
    }
   }
  }
 ],
 "metadata": {
  "kernelspec": {
   "display_name": "Python 3",
   "language": "python",
   "name": "python3"
  },
  "language_info": {
   "codemirror_mode": {
    "name": "ipython",
    "version": 2
   },
   "file_extension": ".py",
   "mimetype": "text/x-python",
   "name": "python",
   "nbconvert_exporter": "python",
   "pygments_lexer": "ipython2",
   "version": "2.7.6"
  }
 },
 "nbformat": 4,
 "nbformat_minor": 0
}