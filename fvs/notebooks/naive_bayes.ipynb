{
 "cells": [
  {
   "cell_type": "code",
   "execution_count": 1,
   "metadata": {
    "collapsed": true
   },
   "outputs": [],
   "source": [
    "import pandas as pd\n",
    "path = '../../train.csv'\n",
    "df = pd.read_csv(path)"
   ]
  },
  {
   "cell_type": "code",
   "execution_count": 7,
   "outputs": [],
   "source": [
    "df['label'] = pd.Categorical(df['label'])\n",
    "df['label_code'] = df['label'].cat.codes"
   ],
   "metadata": {
    "collapsed": false,
    "pycharm": {
     "name": "#%%\n"
    }
   }
  },
  {
   "cell_type": "code",
   "execution_count": 8,
   "outputs": [
    {
     "data": {
      "text/plain": "   Unnamed: 0                                              claim     label  \\\n0           0  Nikolaj Coster-Waldau worked with the Fox Broa...  SUPPORTS   \n1           1  Nikolaj Coster-Waldau worked with the Fox Broa...  SUPPORTS   \n2           2                 Roman Atwood is a content creator.  SUPPORTS   \n3           3                 Roman Atwood is a content creator.  SUPPORTS   \n4           4  History of art includes architecture, dance, s...  SUPPORTS   \n\n             evidence_title  \\\n0  Fox_Broadcasting_Company   \n1     Nikolaj_Coster-Waldau   \n2              Roman_Atwood   \n3              Roman_Atwood   \n4            History_of_art   \n\n                                   evidence_sentence  label_code  \n0  The Fox Broadcasting Company -LRB- often short...           1  \n1  He then played Detective John Amsterdam in the...           1  \n2  He is best known for his vlogs , where he post...           1  \n3  He also has another YouTube channel called `` ...           1  \n4  The subsequent expansion of the list of princi...           1  ",
      "text/html": "<div>\n<style scoped>\n    .dataframe tbody tr th:only-of-type {\n        vertical-align: middle;\n    }\n\n    .dataframe tbody tr th {\n        vertical-align: top;\n    }\n\n    .dataframe thead th {\n        text-align: right;\n    }\n</style>\n<table border=\"1\" class=\"dataframe\">\n  <thead>\n    <tr style=\"text-align: right;\">\n      <th></th>\n      <th>Unnamed: 0</th>\n      <th>claim</th>\n      <th>label</th>\n      <th>evidence_title</th>\n      <th>evidence_sentence</th>\n      <th>label_code</th>\n    </tr>\n  </thead>\n  <tbody>\n    <tr>\n      <th>0</th>\n      <td>0</td>\n      <td>Nikolaj Coster-Waldau worked with the Fox Broa...</td>\n      <td>SUPPORTS</td>\n      <td>Fox_Broadcasting_Company</td>\n      <td>The Fox Broadcasting Company -LRB- often short...</td>\n      <td>1</td>\n    </tr>\n    <tr>\n      <th>1</th>\n      <td>1</td>\n      <td>Nikolaj Coster-Waldau worked with the Fox Broa...</td>\n      <td>SUPPORTS</td>\n      <td>Nikolaj_Coster-Waldau</td>\n      <td>He then played Detective John Amsterdam in the...</td>\n      <td>1</td>\n    </tr>\n    <tr>\n      <th>2</th>\n      <td>2</td>\n      <td>Roman Atwood is a content creator.</td>\n      <td>SUPPORTS</td>\n      <td>Roman_Atwood</td>\n      <td>He is best known for his vlogs , where he post...</td>\n      <td>1</td>\n    </tr>\n    <tr>\n      <th>3</th>\n      <td>3</td>\n      <td>Roman Atwood is a content creator.</td>\n      <td>SUPPORTS</td>\n      <td>Roman_Atwood</td>\n      <td>He also has another YouTube channel called `` ...</td>\n      <td>1</td>\n    </tr>\n    <tr>\n      <th>4</th>\n      <td>4</td>\n      <td>History of art includes architecture, dance, s...</td>\n      <td>SUPPORTS</td>\n      <td>History_of_art</td>\n      <td>The subsequent expansion of the list of princi...</td>\n      <td>1</td>\n    </tr>\n  </tbody>\n</table>\n</div>"
     },
     "execution_count": 8,
     "metadata": {},
     "output_type": "execute_result"
    }
   ],
   "source": [
    "df.head()"
   ],
   "metadata": {
    "collapsed": false,
    "pycharm": {
     "name": "#%%\n"
    }
   }
  },
  {
   "cell_type": "markdown",
   "source": [
    "## Dealing with Length\n",
    "\n",
    "The length of documents can greatly affect the results of a model.\n",
    "+ Naive Bayes - when training the model, the classes"
   ],
   "metadata": {
    "collapsed": false,
    "pycharm": {
     "name": "#%% md\n"
    }
   }
  },
  {
   "cell_type": "code",
   "execution_count": 24,
   "outputs": [],
   "source": [
    "# Dealing with Length\n",
    "docs = df['evidence_sentence']\n",
    "df['ev_sent_length'] = docs.apply(lambda x: len(x.split()))"
   ],
   "metadata": {
    "collapsed": false,
    "pycharm": {
     "name": "#%%\n"
    }
   }
  },
  {
   "cell_type": "code",
   "execution_count": 34,
   "outputs": [
    {
     "data": {
      "text/plain": "[]"
     },
     "execution_count": 34,
     "metadata": {},
     "output_type": "execute_result"
    },
    {
     "data": {
      "text/plain": "<Figure size 1728x1728 with 3 Axes>",
      "image/png": "[encoded data removed]"
     },
     "metadata": {
      "needs_background": "light"
     },
     "output_type": "display_data"
    }
   ],
   "source": [
    "df[df['label'].str.contains('SUPPORTS') == True]\n",
    "\n",
    "import matplotlib.pyplot as plt\n",
    "fig, ax = plt.subplots(nrows=1, ncols=3, figsize=(24, 24))\n",
    "ax[0].hist(df['ev_sent_length'].value_counts(), bins=100)\n",
    "ax[0].set_title(\"ALL\")\n",
    "ax[1].hist(df[df['label'].str.contains('SUPPORT')]['ev_sent_length'].value_counts(), bins=100)\n",
    "ax[1].set_title(\"SUPPORTS\")\n",
    "ax[2].hist(df[df['label'].str.contains('REFUTE')]['ev_sent_length'].value_counts(), bins=100)\n",
    "ax[2].set_title(\"REFUTES\")\n",
    "plt.plot()"
   ],
   "metadata": {
    "collapsed": false,
    "pycharm": {
     "name": "#%%\n"
    }
   }
  },
  {
   "cell_type": "code",
   "execution_count": null,
   "outputs": [],
   "source": [],
   "metadata": {
    "collapsed": false,
    "pycharm": {
     "name": "#%%\n"
    }
   }
  },
  {
   "cell_type": "markdown",
   "source": [
    "## Naive Bayes"
   ],
   "metadata": {
    "collapsed": false,
    "pycharm": {
     "name": "#%% md\n"
    }
   }
  },
  {
   "cell_type": "code",
   "execution_count": 40,
   "outputs": [
    {
     "data": {
      "text/plain": "((135717, 7), (66846, 7))"
     },
     "execution_count": 40,
     "metadata": {},
     "output_type": "execute_result"
    }
   ],
   "source": [
    "# 1. get the counts for each word for each class\n",
    "# 2. get the probabilties of each word for each class\n",
    "\n",
    "from sklearn.model_selection import train_test_split\n",
    "train, test = train_test_split(df, test_size=0.33)\n",
    "\n",
    "train.shape, test.shape"
   ],
   "metadata": {
    "collapsed": false,
    "pycharm": {
     "name": "#%%\n"
    }
   }
  },
  {
   "cell_type": "code",
   "execution_count": 41,
   "outputs": [
    {
     "data": {
      "text/plain": "(135717, 39927)"
     },
     "execution_count": 41,
     "metadata": {},
     "output_type": "execute_result"
    }
   ],
   "source": [
    "from sklearn.feature_extraction.text import CountVectorizer\n",
    "\n",
    "c_vect = CountVectorizer()\n",
    "counts = c_vect.fit_transform(train['evidence_sentence'])\n",
    "counts.shape"
   ],
   "metadata": {
    "collapsed": false,
    "pycharm": {
     "name": "#%%\n"
    }
   }
  },
  {
   "cell_type": "code",
   "execution_count": 42,
   "outputs": [
    {
     "data": {
      "text/plain": "MultinomialNB(alpha=1)"
     },
     "execution_count": 42,
     "metadata": {},
     "output_type": "execute_result"
    }
   ],
   "source": [
    "from sklearn.naive_bayes import MultinomialNB\n",
    "\n",
    "mnb = MultinomialNB(alpha=1)\n",
    "mnb.fit(X=counts, y=train['label_code'])"
   ],
   "metadata": {
    "collapsed": false,
    "pycharm": {
     "name": "#%%\n"
    }
   }
  },
  {
   "cell_type": "code",
   "execution_count": null,
   "outputs": [],
   "source": [
    "mnb.predict( )"
   ],
   "metadata": {
    "collapsed": false,
    "pycharm": {
     "name": "#%%\n"
    }
   }
  },
  {
   "cell_type": "code",
   "execution_count": 28,
   "outputs": [
    {
     "data": {
      "text/plain": "   Unnamed: 0                                              claim     label  \\\n0           0  Nikolaj Coster-Waldau worked with the Fox Broa...  SUPPORTS   \n1           1  Nikolaj Coster-Waldau worked with the Fox Broa...  SUPPORTS   \n2           2                 Roman Atwood is a content creator.  SUPPORTS   \n3           3                 Roman Atwood is a content creator.  SUPPORTS   \n4           4  History of art includes architecture, dance, s...  SUPPORTS   \n\n             evidence_title  \\\n0  Fox_Broadcasting_Company   \n1     Nikolaj_Coster-Waldau   \n2              Roman_Atwood   \n3              Roman_Atwood   \n4            History_of_art   \n\n                                   evidence_sentence  label_code  \\\n0  The Fox Broadcasting Company -LRB- often short...           1   \n1  He then played Detective John Amsterdam in the...           1   \n2  He is best known for his vlogs , where he post...           1   \n3  He also has another YouTube channel called `` ...           1   \n4  The subsequent expansion of the list of princi...           1   \n\n   ev_sent_length  \n0              37  \n1              39  \n2              20  \n3              16  \n4              61  ",
      "text/html": "<div>\n<style scoped>\n    .dataframe tbody tr th:only-of-type {\n        vertical-align: middle;\n    }\n\n    .dataframe tbody tr th {\n        vertical-align: top;\n    }\n\n    .dataframe thead th {\n        text-align: right;\n    }\n</style>\n<table border=\"1\" class=\"dataframe\">\n  <thead>\n    <tr style=\"text-align: right;\">\n      <th></th>\n      <th>Unnamed: 0</th>\n      <th>claim</th>\n      <th>label</th>\n      <th>evidence_title</th>\n      <th>evidence_sentence</th>\n      <th>label_code</th>\n      <th>ev_sent_length</th>\n    </tr>\n  </thead>\n  <tbody>\n    <tr>\n      <th>0</th>\n      <td>0</td>\n      <td>Nikolaj Coster-Waldau worked with the Fox Broa...</td>\n      <td>SUPPORTS</td>\n      <td>Fox_Broadcasting_Company</td>\n      <td>The Fox Broadcasting Company -LRB- often short...</td>\n      <td>1</td>\n      <td>37</td>\n    </tr>\n    <tr>\n      <th>1</th>\n      <td>1</td>\n      <td>Nikolaj Coster-Waldau worked with the Fox Broa...</td>\n      <td>SUPPORTS</td>\n      <td>Nikolaj_Coster-Waldau</td>\n      <td>He then played Detective John Amsterdam in the...</td>\n      <td>1</td>\n      <td>39</td>\n    </tr>\n    <tr>\n      <th>2</th>\n      <td>2</td>\n      <td>Roman Atwood is a content creator.</td>\n      <td>SUPPORTS</td>\n      <td>Roman_Atwood</td>\n      <td>He is best known for his vlogs , where he post...</td>\n      <td>1</td>\n      <td>20</td>\n    </tr>\n    <tr>\n      <th>3</th>\n      <td>3</td>\n      <td>Roman Atwood is a content creator.</td>\n      <td>SUPPORTS</td>\n      <td>Roman_Atwood</td>\n      <td>He also has another YouTube channel called `` ...</td>\n      <td>1</td>\n      <td>16</td>\n    </tr>\n    <tr>\n      <th>4</th>\n      <td>4</td>\n      <td>History of art includes architecture, dance, s...</td>\n      <td>SUPPORTS</td>\n      <td>History_of_art</td>\n      <td>The subsequent expansion of the list of princi...</td>\n      <td>1</td>\n      <td>61</td>\n    </tr>\n  </tbody>\n</table>\n</div>"
     },
     "execution_count": 28,
     "metadata": {},
     "output_type": "execute_result"
    }
   ],
   "source": [
    "df.head()"
   ],
   "metadata": {
    "collapsed": false,
    "pycharm": {
     "name": "#%%\n"
    }
   }
  },
  {
   "cell_type": "code",
   "execution_count": null,
   "outputs": [],
   "source": [],
   "metadata": {
    "collapsed": false,
    "pycharm": {
     "name": "#%%\n"
    }
   }
  }
 ],
 "metadata": {
  "kernelspec": {
   "display_name": "Python 3",
   "language": "python",
   "name": "python3"
  },
  "language_info": {
   "codemirror_mode": {
    "name": "ipython",
    "version": 2
   },
   "file_extension": ".py",
   "mimetype": "text/x-python",
   "name": "python",
   "nbconvert_exporter": "python",
   "pygments_lexer": "ipython2",
   "version": "2.7.6"
  }
 },
 "nbformat": 4,
 "nbformat_minor": 0
}